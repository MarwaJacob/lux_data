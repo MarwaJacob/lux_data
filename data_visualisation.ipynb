{
 "cells": [
  {
   "cell_type": "code",
   "execution_count": 11,
   "metadata": {},
   "outputs": [],
   "source": [
    "import pandas as pd\n",
    "import matplotlib.pyplot as plt\n",
    "import seaborn as sns\n",
    "import numpy as np\n",
    "import datetime \n"
   ]
  },
  {
   "cell_type": "code",
   "execution_count": 17,
   "metadata": {},
   "outputs": [
    {
     "data": {
      "text/html": [
       "<div>\n",
       "<style scoped>\n",
       "    .dataframe tbody tr th:only-of-type {\n",
       "        vertical-align: middle;\n",
       "    }\n",
       "\n",
       "    .dataframe tbody tr th {\n",
       "        vertical-align: top;\n",
       "    }\n",
       "\n",
       "    .dataframe thead th {\n",
       "        text-align: right;\n",
       "    }\n",
       "</style>\n",
       "<table border=\"1\" class=\"dataframe\">\n",
       "  <thead>\n",
       "    <tr style=\"text-align: right;\">\n",
       "      <th></th>\n",
       "      <th>ÿid</th>\n",
       "      <th>Gender</th>\n",
       "      <th>Customer_Date_of_Birth</th>\n",
       "      <th>Driving_License</th>\n",
       "      <th>Customer_Residence_Sub_County</th>\n",
       "      <th>Previously_Insured</th>\n",
       "      <th>Vehicle_Year_of_Manufacture</th>\n",
       "      <th>Vehicle_Damage</th>\n",
       "      <th>Annual_Premium</th>\n",
       "      <th>Agent_name</th>\n",
       "      <th>Life_policy_start_date</th>\n",
       "      <th>Response</th>\n",
       "    </tr>\n",
       "  </thead>\n",
       "  <tbody>\n",
       "    <tr>\n",
       "      <th>0</th>\n",
       "      <td>549771831</td>\n",
       "      <td>Male</td>\n",
       "      <td>Monday, March 7, 1977</td>\n",
       "      <td>1</td>\n",
       "      <td>EMBAKASI</td>\n",
       "      <td>0</td>\n",
       "      <td>2020</td>\n",
       "      <td>Yes</td>\n",
       "      <td>38294</td>\n",
       "      <td>Jomo Kenyatta</td>\n",
       "      <td>Thursday, December 21, 2023</td>\n",
       "      <td>1</td>\n",
       "    </tr>\n",
       "    <tr>\n",
       "      <th>1</th>\n",
       "      <td>373583351</td>\n",
       "      <td>Male</td>\n",
       "      <td>Sunday, December 29, 2002</td>\n",
       "      <td>1</td>\n",
       "      <td>WESTLANDS</td>\n",
       "      <td>1</td>\n",
       "      <td>2020</td>\n",
       "      <td>No</td>\n",
       "      <td>28619</td>\n",
       "      <td>Obiero Ochieng</td>\n",
       "      <td>Wednesday, June 28, 2023</td>\n",
       "      <td>0</td>\n",
       "    </tr>\n",
       "    <tr>\n",
       "      <th>2</th>\n",
       "      <td>933163655</td>\n",
       "      <td>Female</td>\n",
       "      <td>Tuesday, August 23, 1994</td>\n",
       "      <td>1</td>\n",
       "      <td>DAGORETTI</td>\n",
       "      <td>1</td>\n",
       "      <td>2011</td>\n",
       "      <td>No</td>\n",
       "      <td>27496</td>\n",
       "      <td>Obiero Ochieng</td>\n",
       "      <td>Saturday, December 9, 2023</td>\n",
       "      <td>0</td>\n",
       "    </tr>\n",
       "    <tr>\n",
       "      <th>3</th>\n",
       "      <td>698942186</td>\n",
       "      <td>Female</td>\n",
       "      <td>Thursday, November 18, 1999</td>\n",
       "      <td>1</td>\n",
       "      <td>JUJA</td>\n",
       "      <td>0</td>\n",
       "      <td>2020</td>\n",
       "      <td>Yes</td>\n",
       "      <td>2630</td>\n",
       "      <td>Gitonga Mwangi</td>\n",
       "      <td>Tuesday, July 25, 2023</td>\n",
       "      <td>0</td>\n",
       "    </tr>\n",
       "    <tr>\n",
       "      <th>4</th>\n",
       "      <td>515109822</td>\n",
       "      <td>Male</td>\n",
       "      <td>Thursday, February 22, 2001</td>\n",
       "      <td>1</td>\n",
       "      <td>WESTLANDS</td>\n",
       "      <td>0</td>\n",
       "      <td>2015</td>\n",
       "      <td>Yes</td>\n",
       "      <td>23367</td>\n",
       "      <td>Obiero Ochieng</td>\n",
       "      <td>Saturday, May 13, 2023</td>\n",
       "      <td>0</td>\n",
       "    </tr>\n",
       "  </tbody>\n",
       "</table>\n",
       "</div>"
      ],
      "text/plain": [
       "         ÿid  Gender       Customer_Date_of_Birth  Driving_License  \\\n",
       "0  549771831    Male        Monday, March 7, 1977                1   \n",
       "1  373583351    Male    Sunday, December 29, 2002                1   \n",
       "2  933163655  Female     Tuesday, August 23, 1994                1   \n",
       "3  698942186  Female  Thursday, November 18, 1999                1   \n",
       "4  515109822    Male  Thursday, February 22, 2001                1   \n",
       "\n",
       "  Customer_Residence_Sub_County  Previously_Insured  \\\n",
       "0                      EMBAKASI                   0   \n",
       "1                     WESTLANDS                   1   \n",
       "2                     DAGORETTI                   1   \n",
       "3                          JUJA                   0   \n",
       "4                     WESTLANDS                   0   \n",
       "\n",
       "   Vehicle_Year_of_Manufacture Vehicle_Damage  Annual_Premium      Agent_name  \\\n",
       "0                         2020            Yes           38294   Jomo Kenyatta   \n",
       "1                         2020             No           28619  Obiero Ochieng   \n",
       "2                         2011             No           27496  Obiero Ochieng   \n",
       "3                         2020            Yes            2630  Gitonga Mwangi   \n",
       "4                         2015            Yes           23367  Obiero Ochieng   \n",
       "\n",
       "        Life_policy_start_date  Response  \n",
       "0  Thursday, December 21, 2023         1  \n",
       "1     Wednesday, June 28, 2023         0  \n",
       "2   Saturday, December 9, 2023         0  \n",
       "3       Tuesday, July 25, 2023         0  \n",
       "4       Saturday, May 13, 2023         0  "
      ]
     },
     "execution_count": 17,
     "metadata": {},
     "output_type": "execute_result"
    }
   ],
   "source": [
    "df= pd.read_csv(r'C:\\Users\\Administrator\\Documents\\train_data_cross-sell.csv', encoding=\"latin1\")\n",
    "df.head()"
   ]
  },
  {
   "cell_type": "code",
   "execution_count": 18,
   "metadata": {},
   "outputs": [
    {
     "data": {
      "text/plain": [
       "<Figure size 800x500 with 0 Axes>"
      ]
     },
     "metadata": {},
     "output_type": "display_data"
    }
   ],
   "source": [
    "plt.figure(figsize=(8,5))\n",
    "plt.show()"
   ]
  },
  {
   "cell_type": "code",
   "execution_count": 19,
   "metadata": {},
   "outputs": [
    {
     "name": "stdout",
     "output_type": "stream",
     "text": [
      "          Agent_name  Annual_Premium\n",
      "124   Obiero Ochieng      3540111121\n",
      "22     Jomo Kenyatta      2284661069\n",
      "105  Njoroge Karanja      1997845221\n",
      "18    Gitonga Mwangi       475238042\n",
      "41     Kimani Mwenda       312278181\n",
      "..               ...             ...\n",
      "138    Wafula Nkatha            5260\n",
      "148  Wangui Chemutai            5260\n",
      "31      Kariuki Mwai            2630\n",
      "69       Mumbi Kinya            2630\n",
      "147   Wambura Nkatha            2630\n",
      "\n",
      "[155 rows x 2 columns]\n"
     ]
    }
   ],
   "source": [
    "display_ten_agents=df.groupby('Agent_name')['Annual_Premium'].sum().reset_index().sort_values(by='Annual_Premium',ascending=False)\n",
    "print(display_ten_agents)"
   ]
  },
  {
   "cell_type": "code",
   "execution_count": 21,
   "metadata": {},
   "outputs": [
    {
     "name": "stdout",
     "output_type": "stream",
     "text": [
      "          Agent_name  Annual_Premium\n",
      "124   Obiero Ochieng      3540111121\n",
      "22     Jomo Kenyatta      2284661069\n",
      "105  Njoroge Karanja      1997845221\n",
      "18    Gitonga Mwangi       475238042\n",
      "41     Kimani Mwenda       312278181\n",
      "6        Chege Nyaga       144430207\n",
      "130   Onyango Mariga       103846148\n",
      "38      Kibet Makori        97722877\n",
      "115      Nyaga Kibet        79467053\n",
      "27   Karanja Wanjala        60298000\n"
     ]
    }
   ],
   "source": [
    "top_ten= display_ten_agents.head(10)\n",
    "print(top_ten)"
   ]
  },
  {
   "cell_type": "code",
   "execution_count": null,
   "metadata": {},
   "outputs": [
    {
     "data": {
      "image/png": "[encoded data removed]",
      "text/plain": [
       "<Figure size 640x480 with 1 Axes>"
      ]
     },
     "metadata": {},
     "output_type": "display_data"
    }
   ],
   "source": [
    "plt.Figure(figsize=(8,5))\n",
    "plt.barh(top_ten['Agent_name'],top_ten['Annual_Premium'], color=\"green\")\n",
    "plt.title('top 10 perfoming agents', color ='red' )\n",
    "plt.xlabel('values', color= 'blue')\n",
    "plt.ylabel('agent name', color= 'brown')\n",
    "for index,value in enumerate(top_ten['Annual_Premium']):\n",
    "    plt.text(value+200, index, str(value), fontsize=10,va=\"center\")\n",
    "plt.tight_layout()\n",
    "plt.show()\n",
    "#value+200 creates a gap after the bar-optional\n",
    "#va is 'vertical align'-optional\n",
    "#tight layout to compress  the graph\n",
    "\n"
   ]
  }
 ],
 "metadata": {
  "kernelspec": {
   "display_name": "Python 3",
   "language": "python",
   "name": "python3"
  },
  "language_info": {
   "codemirror_mode": {
    "name": "ipython",
    "version": 3
   },
   "file_extension": ".py",
   "mimetype": "text/x-python",
   "name": "python",
   "nbconvert_exporter": "python",
   "pygments_lexer": "ipython3",
   "version": "3.12.2"
  }
 },
 "nbformat": 4,
 "nbformat_minor": 2
}
