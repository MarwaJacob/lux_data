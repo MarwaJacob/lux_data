{
 "cells": [
  {
   "cell_type": "code",
   "execution_count": 1,
   "metadata": {},
   "outputs": [
    {
     "name": "stdout",
     "output_type": "stream",
     "text": [
      "25\n"
     ]
    }
   ],
   "source": [
    "class square:\n",
    "    #constructor method\n",
    "    #self is an instance\n",
    "    def __init__(self,length, ):\n",
    "        self.length = length\n",
    "       \n",
    "\n",
    "    def area(self):\n",
    "        area= self.length **2\n",
    "        return area\n",
    "    \n",
    "#example\n",
    "square1=square(5)\n",
    "area1 = print(square1.area())\n",
    "\n",
    "\n"
   ]
  },
  {
   "cell_type": "code",
   "execution_count": 6,
   "metadata": {},
   "outputs": [
    {
     "name": "stdout",
     "output_type": "stream",
     "text": [
      "my laptop is hp and it was relieased in the of 2021\n",
      "None\n"
     ]
    }
   ],
   "source": [
    "class laptop:\n",
    "    def __init__(self,model, year_of_manufacture):\n",
    "        self.model=model\n",
    "        self.year_of_manufacture=year_of_manufacture\n",
    "    def machine(self):\n",
    "        print(f\"my laptop is {self.model} and it was relieased in the of {self.year_of_manufacture}\")\n",
    "    \n",
    "laptop1=laptop(\"hp\",2021)\n",
    "machine1=print(laptop1.machine())\n"
   ]
  },
  {
   "cell_type": "code",
   "execution_count": 9,
   "metadata": {},
   "outputs": [
    {
     "name": "stdout",
     "output_type": "stream",
     "text": [
      "my phone is samsungs25 and it will be released in the 2025\n",
      "None\n"
     ]
    }
   ],
   "source": [
    "class phone:\n",
    "    def __init__(self,model,year):\n",
    "        self.model=model\n",
    "        self.year=year\n",
    "\n",
    "    def gadget(self):\n",
    "        print(f\"my phone is {self.model} and it will be released in the {self.year}\")\n",
    "\n",
    "phone1 = phone(\"samsungs25\", 2025) \n",
    "gadget1=print(phone1.gadget())   \n",
    "\n"
   ]
  },
  {
   "cell_type": "code",
   "execution_count": 14,
   "metadata": {},
   "outputs": [
    {
     "name": "stdout",
     "output_type": "stream",
     "text": [
      "[1, 2, 3]\n",
      "[4, 5, 6]\n",
      "[7, 8, 9]\n"
     ]
    }
   ],
   "source": [
    "matrix = [\n",
    "    [1,2,3],\n",
    "    [4,5,6,],\n",
    "    [7,8,9]\n",
    "]\n",
    "for i in matrix: \n",
    "    print(i)\n",
    "\n"
   ]
  },
  {
   "cell_type": "code",
   "execution_count": 23,
   "metadata": {},
   "outputs": [
    {
     "name": "stdout",
     "output_type": "stream",
     "text": [
      "789"
     ]
    }
   ],
   "source": [
    "for i in matrix[2]:\n",
    "    #to display the numbers in a row form use (end=\"\")\n",
    "    print(i, end= \"\")"
   ]
  },
  {
   "cell_type": "code",
   "execution_count": 6,
   "metadata": {},
   "outputs": [
    {
     "name": "stdout",
     "output_type": "stream",
     "text": [
      "hello girl\n"
     ]
    }
   ],
   "source": [
    "def my_greetings():\n",
    "    print(\"hello girl\")\n",
    "my_greetings()"
   ]
  }
 ],
 "metadata": {
  "kernelspec": {
   "display_name": "Python 3",
   "language": "python",
   "name": "python3"
  },
  "language_info": {
   "codemirror_mode": {
    "name": "ipython",
    "version": 3
   },
   "file_extension": ".py",
   "mimetype": "text/x-python",
   "name": "python",
   "nbconvert_exporter": "python",
   "pygments_lexer": "ipython3",
   "version": "3.12.2"
  }
 },
 "nbformat": 4,
 "nbformat_minor": 2
}
