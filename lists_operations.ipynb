{
 "cells": [
  {
   "cell_type": "code",
   "execution_count": 4,
   "metadata": {},
   "outputs": [
    {
     "name": "stdout",
     "output_type": "stream",
     "text": [
      "Cannodale\n"
     ]
    }
   ],
   "source": [
    "#accessing elements in a list\n",
    "bicycles = ['trek', 'cannodale','redline', 'specialised']\n",
    "print(bicycles[1].title())"
   ]
  },
  {
   "cell_type": "code",
   "execution_count": 6,
   "metadata": {},
   "outputs": [
    {
     "name": "stdout",
     "output_type": "stream",
     "text": [
      "trek\n"
     ]
    }
   ],
   "source": [
    "bicycles = ['trek', 'cannodale','redline', 'specialised']\n",
    "print(bicycles[0])"
   ]
  },
  {
   "cell_type": "code",
   "execution_count": 1,
   "metadata": {},
   "outputs": [
    {
     "name": "stdout",
     "output_type": "stream",
     "text": [
      "hello  hope  you are fine Mara\n"
     ]
    }
   ],
   "source": [
    "family = ['elias','mara','toto','charles']\n",
    "greetings =f\"hello  hope  you are fine {family[1].title()}\"\n",
    "print(greetings)"
   ]
  },
  {
   "cell_type": "markdown",
   "metadata": {},
   "source": [
    "### list\n",
    " is a collection of items in a particular order. it has 0 indexing\n",
    " a list has more than one elements of different types \n",
    " make it in plurals e.g cars, using square brackets.separate elements using commas eg\n",
    " cars = ['honda', 'nissan', 'toyota', ]\n",
    "\n",
    " "
   ]
  },
  {
   "cell_type": "code",
   "execution_count": 15,
   "metadata": {},
   "outputs": [
    {
     "name": "stdout",
     "output_type": "stream",
     "text": [
      "hey my new car is Nissan\n"
     ]
    }
   ],
   "source": [
    "#using f\"message{variable[index].title()}\" \n",
    "cars = ['bentley', 'toyota', 'honda', 'nissan']\n",
    "message =f\"hey my new car is {cars[-1].title()}\"\n",
    "print(message)\n"
   ]
  },
  {
   "cell_type": "code",
   "execution_count": 16,
   "metadata": {},
   "outputs": [
    {
     "name": "stdout",
     "output_type": "stream",
     "text": [
      "Honda\n"
     ]
    }
   ],
   "source": [
    "cars = ['bentley', 'toyota', 'honda', 'nissan']\n",
    "print(cars[2].title())"
   ]
  },
  {
   "cell_type": "markdown",
   "metadata": {},
   "source": [
    "modifying elements\n",
    "add or remove elements from list\n",
    "create a list also in a different way also"
   ]
  },
  {
   "cell_type": "code",
   "execution_count": 5,
   "metadata": {},
   "outputs": [
    {
     "name": "stdout",
     "output_type": "stream",
     "text": [
      "['nissan', 'toyota', 'honda', 'suzuki']\n"
     ]
    }
   ],
   "source": [
    "# using append()\n",
    "# this  adds an elememnt at the end of alist\n",
    "cars = [\"nissan\", \"toyota\", \"honda\",]\n",
    "cars.append(\"suzuki\")\n",
    "print(cars)"
   ]
  },
  {
   "cell_type": "code",
   "execution_count": 6,
   "metadata": {},
   "outputs": [
    {
     "name": "stdout",
     "output_type": "stream",
     "text": [
      "['nissans', 'honda', 'suzuki']\n"
     ]
    }
   ],
   "source": [
    "# creating a new list using append()\n",
    "cars = []\n",
    "cars.append(\"nissans\")\n",
    "cars.append(\"honda\")\n",
    "cars.append(\"suzuki\")\n",
    "print(cars)"
   ]
  },
  {
   "cell_type": "code",
   "execution_count": 9,
   "metadata": {},
   "outputs": [
    {
     "name": "stdout",
     "output_type": "stream",
     "text": [
      "['nissan', 'suzuki', 'toyota', 'honda']\n"
     ]
    }
   ],
   "source": [
    "#inserting an element using insert()method\n",
    "#specify the location \n",
    "cars = [\"nissan\", \"toyota\", \"honda\",]\n",
    "cars.insert(1, \"suzuki\")\n",
    "print(cars)"
   ]
  },
  {
   "cell_type": "code",
   "execution_count": 11,
   "metadata": {},
   "outputs": [
    {
     "name": "stdout",
     "output_type": "stream",
     "text": [
      "['toyota', 'honda']\n"
     ]
    }
   ],
   "source": [
    "#removing an element\n",
    "#using del \n",
    "cars = [\"nissan\", \"toyota\", \"honda\",]\n",
    "del cars[0]\n",
    "print(cars)"
   ]
  },
  {
   "cell_type": "code",
   "execution_count": 13,
   "metadata": {},
   "outputs": [
    {
     "name": "stdout",
     "output_type": "stream",
     "text": [
      "['nissan', 'toyota']\n"
     ]
    }
   ],
   "source": [
    "#removing an element using pop()method\n",
    "cars = [\"nissan\", \"toyota\", \"honda\",]\n",
    "popped_cars = cars.pop()\n",
    "print(cars)"
   ]
  },
  {
   "cell_type": "code",
   "execution_count": 15,
   "metadata": {},
   "outputs": [
    {
     "name": "stdout",
     "output_type": "stream",
     "text": [
      "the last car i ownedToyota\n"
     ]
    }
   ],
   "source": [
    "last_owned=f\"the last car i owned{cars.pop().title()}\"\n",
    "print(last_owned)"
   ]
  },
  {
   "cell_type": "code",
   "execution_count": 16,
   "metadata": {},
   "outputs": [
    {
     "name": "stdout",
     "output_type": "stream",
     "text": [
      "['nissan', 'toyota']\n"
     ]
    }
   ],
   "source": [
    "#we use remove() method when we dont know the exctact indexing of an element\n",
    "cars = [\"nissan\", \"toyota\", \"honda\",]\n",
    "cars.remove(\"honda\")\n",
    "print(cars)"
   ]
  }
 ],
 "metadata": {
  "kernelspec": {
   "display_name": "Python 3",
   "language": "python",
   "name": "python3"
  },
  "language_info": {
   "codemirror_mode": {
    "name": "ipython",
    "version": 3
   },
   "file_extension": ".py",
   "mimetype": "text/x-python",
   "name": "python",
   "nbconvert_exporter": "python",
   "pygments_lexer": "ipython3",
   "version": "3.12.2"
  }
 },
 "nbformat": 4,
 "nbformat_minor": 2
}
