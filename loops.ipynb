{
 "cells": [
  {
   "cell_type": "code",
   "execution_count": 26,
   "metadata": {},
   "outputs": [
    {
     "name": "stdout",
     "output_type": "stream",
     "text": [
      "Mara,that was a great trick\n",
      "Ghati,that was a great trick\n",
      "Marwa,that was a great trick\n",
      "Chacha,that was a great trick\n"
     ]
    }
   ],
   "source": [
    "magicians =['mara','ghati','marwa','chacha']\n",
    "for magician in (magicians):\n",
    "    print(f\"{magician.title()},that was a great trick\")"
   ]
  },
  {
   "cell_type": "code",
   "execution_count": 21,
   "metadata": {},
   "outputs": [
    {
     "name": "stdout",
     "output_type": "stream",
     "text": [
      "Chacha,that was a great trick,"
     ]
    }
   ],
   "source": [
    "print(f\"{magician.title()},that was a great trick\", end=\",\")"
   ]
  }
 ],
 "metadata": {
  "kernelspec": {
   "display_name": "Python 3",
   "language": "python",
   "name": "python3"
  },
  "language_info": {
   "codemirror_mode": {
    "name": "ipython",
    "version": 3
   },
   "file_extension": ".py",
   "mimetype": "text/x-python",
   "name": "python",
   "nbconvert_exporter": "python",
   "pygments_lexer": "ipython3",
   "version": "3.12.2"
  }
 },
 "nbformat": 4,
 "nbformat_minor": 2
}
