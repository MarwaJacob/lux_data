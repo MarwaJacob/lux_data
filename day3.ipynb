{
 "cells": [
  {
   "cell_type": "code",
   "execution_count": 3,
   "metadata": {},
   "outputs": [
    {
     "ename": "SyntaxError",
     "evalue": "invalid syntax. Perhaps you forgot a comma? (1970773115.py, line 3)",
     "output_type": "error",
     "traceback": [
      "\u001b[1;36m  Cell \u001b[1;32mIn[3], line 3\u001b[1;36m\u001b[0m\n\u001b[1;33m    welcome_messages.append(\"Hi\" + new_employee.title() \", I,m so gladto be working with you!\")\u001b[0m\n\u001b[1;37m                            ^\u001b[0m\n\u001b[1;31mSyntaxError\u001b[0m\u001b[1;31m:\u001b[0m invalid syntax. Perhaps you forgot a comma?\n"
     ]
    }
   ],
   "source": [
    "welcome_messages=[],\n",
    "for new_employee in new_employees:\n",
    "    welcome_messages.append(\"Hi\" + new_employee.title() \", I,m so gladto be working with you!\")\n",
    "    welcome_messages"
   ]
  },
  {
   "cell_type": "code",
   "execution_count": 13,
   "metadata": {},
   "outputs": [],
   "source": [
    "new_employees=[\"noel\", \"maurice\", \"wiclife\"]\n",
    "def greetings():\n",
    "  good_morning = []\n",
    "  for new_employee in new_employees:\n",
    "    good_morning.append('Good morning ' + new_employee + ' How was your night' )\n",
    "  return good_morning  \n",
    "\n",
    "   \n"
   ]
  },
  {
   "cell_type": "code",
   "execution_count": null,
   "metadata": {},
   "outputs": [],
   "source": [
    "greetings()"
   ]
  },
  {
   "cell_type": "code",
   "execution_count": 30,
   "metadata": {},
   "outputs": [],
   "source": [
    "class_members=[\"timo\", \"kitema\" , \"alvin\"]\n",
    "def greetings():\n",
    "    goodbyeeveryone=[]\n",
    "    for class_member in class_members:\n",
    "        goodbyeeveryone.append(\"goodbyeeveryone\" + class_member + \"hope we had a fruitful session\" )\n",
    "\n",
    "        return greetings\n"
   ]
  },
  {
   "cell_type": "code",
   "execution_count": 4,
   "metadata": {},
   "outputs": [
    {
     "ename": "NameError",
     "evalue": "name 'greetings' is not defined",
     "output_type": "error",
     "traceback": [
      "\u001b[1;31m---------------------------------------------------------------------------\u001b[0m",
      "\u001b[1;31mNameError\u001b[0m                                 Traceback (most recent call last)",
      "Cell \u001b[1;32mIn[4], line 1\u001b[0m\n\u001b[1;32m----> 1\u001b[0m \u001b[43mgreetings\u001b[49m()\n",
      "\u001b[1;31mNameError\u001b[0m: name 'greetings' is not defined"
     ]
    }
   ],
   "source": [
    "greetings()\n"
   ]
  },
  {
   "cell_type": "markdown",
   "metadata": {},
   "source": [
    "###class is a blueprint for constructing objects\n",
    "###inside innit we have instance\n",
    "###instace is an object created from stance blueprint\n",
    "  ####asignment \n",
    "  ##sort agent names alphabetically\n",
    "  ##list of python operators\n",
    "  ##write a function that returns the perfomance category of every agent and  the resulting column to be added to the original dataframe\n",
    "  ##define the car class with attributes ; make, model and year\n",
    "  toyota camri 2020\n",
    "  honda civic 2021"
   ]
  },
  {
   "cell_type": "code",
   "execution_count": null,
   "metadata": {},
   "outputs": [],
   "source": [
    "class person:\n",
    "    def __init__(self,name,age):\n",
    "     self.name=name\n",
    "     self.age=age\n",
    "    def display_info(self):\n",
    "     print(f\"my name is {self.name} and  I am {self.age} years old\")\n",
    "person1 = person(\"marwa\",50)\n",
    "print(person1.display_info())"
   ]
  },
  {
   "cell_type": "code",
   "execution_count": null,
   "metadata": {},
   "outputs": [],
   "source": [
    "class dog:\n",
    "    def __init__(self,name,age,breed,color):\n",
    "        self.name = name\n",
    "        self.age = age\n",
    "        self. breed = breed \n",
    "        self. color = color \n",
    "\n",
    "    def bark(self):\n",
    "        print(f\"my{self.name} is a {self.breed},{self.color}and he is {self.age}years old barks 'huhuhuhu!'\")\n",
    "dog1= dog('marwa', 5, 'german', 'white')\n",
    "print(dog1.bark())"
   ]
  },
  {
   "cell_type": "code",
   "execution_count": null,
   "metadata": {},
   "outputs": [],
   "source": [
    "from operator import le\n",
    "\n",
    "\n",
    "class rectangle:\n",
    " def __init__(self, length, width):\n",
    "     self.length = length\n",
    "     self.width = width\n",
    " def area(self):\n",
    "     area=self.length * self.width\n",
    "     return area\n",
    "area1 = rectangle(12, 8)\n",
    "print(area1.area())\n",
    "    "
   ]
  },
  {
   "cell_type": "code",
   "execution_count": 9,
   "metadata": {},
   "outputs": [
    {
     "name": "stdout",
     "output_type": "stream",
     "text": [
      "('toyota', 'camry', 2020)\n"
     ]
    }
   ],
   "source": [
    "class car:\n",
    "    def __init__(self, make, model,year ):\n",
    "     self.make = make\n",
    "     self.model= model\n",
    "     self.year = year\n",
    "    def display_info(self):\n",
    "        return f\"{self.make, self.model, self.year}\"\n",
    "        \n",
    "toyota_camry= car(\"toyota\",\"camry\",2020)\n",
    "print(toyota_camry.display_info())\n",
    "        "
   ]
  },
  {
   "cell_type": "code",
   "execution_count": 17,
   "metadata": {},
   "outputs": [
    {
     "name": "stdout",
     "output_type": "stream",
     "text": [
      "('honda', 'civic', 2020)\n"
     ]
    }
   ],
   "source": [
    "class car:\n",
    "    def __init__(self, make, model,year ):\n",
    "        self.make = make\n",
    "        self.model= model\n",
    "        self.year = year\n",
    "    def display_info(self):\n",
    "        return f\"{self.make, self.model, self.year}\"\n",
    "    \n",
    "honda_civic= car(\"honda\", \"civic\", 2020)\n",
    "print(honda_civic.display_info())\n",
    "        "
   ]
  }
 ],
 "metadata": {
  "kernelspec": {
   "display_name": "Python 3",
   "language": "python",
   "name": "python3"
  },
  "language_info": {
   "codemirror_mode": {
    "name": "ipython",
    "version": 3
   },
   "file_extension": ".py",
   "mimetype": "text/x-python",
   "name": "python",
   "nbconvert_exporter": "python",
   "pygments_lexer": "ipython3",
   "version": "3.12.2"
  }
 },
 "nbformat": 4,
 "nbformat_minor": 2
}
