{
 "cells": [
  {
   "cell_type": "markdown",
   "metadata": {},
   "source": [
    "## graphs\n",
    "used to show raw data and trends overtime\n",
    "## charts\n",
    "they are used to dispaly large amount of data clearly and concisely. these are ; tables, pictures and diagrams\n"
   ]
  },
  {
   "cell_type": "markdown",
   "metadata": {},
   "source": [
    "## line graph\n",
    "this is used to illustrate related data over specific period of time eg temp. changes over time\n"
   ]
  },
  {
   "cell_type": "markdown",
   "metadata": {},
   "source": [
    "## bar grap\n",
    "used to caomare numerical data like inventories, group sizes and financial predictions\n",
    "in marketing they are used to display ratings and survey responses "
   ]
  },
  {
   "cell_type": "markdown",
   "metadata": {},
   "source": [
    "### pictograph \n",
    "this uses pictures or symbols to display data instead of data, where each picture represents a certain number of items\n",
    "for high visual representation eg infographics"
   ]
  },
  {
   "cell_type": "markdown",
   "metadata": {},
   "source": [
    "### histogram\n",
    "type of bar graph that illustrates the distribution of numeric data across categories. \n",
    "People often use histograms to illustrate statistics. For example, a histogram might display how many people belong to a certain age range within a population. The height or length of each bar in the histogram shows how many people are in each category.\n"
   ]
  },
  {
   "cell_type": "markdown",
   "metadata": {},
   "source": [
    "## area graphs\n",
    "Area graphs show a change in one or more quantities over a certain period of time. They often help when displaying trends and patterns. Similar to a line graph, area graphs use dots connected by a line. However, an area graph involves coloring between the line and the horizontal axis. You can use several lines and colors between each one to show how multiple quantities add up to a whole. For example, a retailer might use this method to display the profits of different stores over the same timeframe.\n"
   ]
  },
  {
   "cell_type": "markdown",
   "metadata": {},
   "source": [
    "### scatter plot\n",
    "use dots to depict the relationship between two different variables. Someone might use a scatter plot graph to show the relationship between a person’s height and weight\n",
    "The resulting scatter plot demonstrates how much one variable affects the other. If there is no correlation, the dots appear in random places on the graph. If there is a strong correlation, the dots are close together and form a line through the graph."
   ]
  }
 ],
 "metadata": {
  "language_info": {
   "name": "python"
  }
 },
 "nbformat": 4,
 "nbformat_minor": 2
}
