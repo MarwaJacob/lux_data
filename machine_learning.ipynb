{
 "cells": [
  {
   "cell_type": "markdown",
   "metadata": {},
   "source": [
    "# machine learning \n",
    "this is training a machine to learn paterns from data\n",
    "# types of machine learning\n",
    " supervised ml\n",
    " unsupervised ml\n",
    " semi supervised \n",
    " reinforncement leraning \n",
    " # supervised learning \n",
    "    this deals with labelled data e.g  customer a has all qualities we are looking for (thta is what we call labelled data)-the response is what we call dependent variable \n",
    "      ###### types of  supervised  learning\n",
    "     1. regression \n",
    "      y=mx+c\n",
    "     2. claasification \n",
    "      we classify data into binary i.e yes/no \n",
    "      types of \n",
    "    #unsupervised \n",
    "    unlabelled data\n",
    "    we use clustering in labelleng\n",
    "    PCA - principle component analysis to reduce dimensionality in future engineering \n",
    "    gradient boosting algorithm\n",
    "    random forest\n",
    "    # flow for unsupervised learning\n",
    "    raw data --> apply algorithm-->check pattern\n",
    "     \n"
   ]
  },
  {
   "cell_type": "markdown",
   "metadata": {},
   "source": [
    "## semi supervised\n",
    "model+ unlabeled data-->apply alogithm--> validate -->check for patterns "
   ]
  },
  {
   "cell_type": "markdown",
   "metadata": {},
   "source": [
    "reinforcement learning\n",
    "\n"
   ]
  },
  {
   "cell_type": "markdown",
   "metadata": {},
   "source": [
    "label encoder-- transforms strings into binaries \n",
    "One Hot encoder--sklearn\n",
    "get dummies also convert strings to binaries ---use pandas  and it works like One Hot Encoder they only have a difference in libraries used ."
   ]
  }
 ],
 "metadata": {
  "kernelspec": {
   "display_name": "Python 3",
   "language": "python",
   "name": "python3"
  },
  "language_info": {
   "name": "python",
   "version": "3.12.2"
  }
 },
 "nbformat": 4,
 "nbformat_minor": 2
}
