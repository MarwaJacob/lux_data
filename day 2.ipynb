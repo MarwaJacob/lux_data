{
 "cells": [
  {
   "cell_type": "code",
   "execution_count": 1,
   "metadata": {},
   "outputs": [],
   "source": [
    "import pandas as pd\n",
    "import matplotlib.pyplot as plt"
   ]
  },
  {
   "cell_type": "code",
   "execution_count": 2,
   "metadata": {},
   "outputs": [
    {
     "data": {
      "text/html": [
       "<div>\n",
       "<style scoped>\n",
       "    .dataframe tbody tr th:only-of-type {\n",
       "        vertical-align: middle;\n",
       "    }\n",
       "\n",
       "    .dataframe tbody tr th {\n",
       "        vertical-align: top;\n",
       "    }\n",
       "\n",
       "    .dataframe thead th {\n",
       "        text-align: right;\n",
       "    }\n",
       "</style>\n",
       "<table border=\"1\" class=\"dataframe\">\n",
       "  <thead>\n",
       "    <tr style=\"text-align: right;\">\n",
       "      <th></th>\n",
       "      <th>ÿid</th>\n",
       "      <th>Gender</th>\n",
       "      <th>Customer_Date_of_Birth</th>\n",
       "      <th>Driving_License</th>\n",
       "      <th>Customer_Residence_Sub_County</th>\n",
       "      <th>Previously_Insured</th>\n",
       "      <th>Vehicle_Year_of_Manufacture</th>\n",
       "      <th>Vehicle_Damage</th>\n",
       "      <th>Annual_Premium</th>\n",
       "      <th>Agent_name</th>\n",
       "      <th>Life_policy_start_date</th>\n",
       "      <th>Response</th>\n",
       "    </tr>\n",
       "  </thead>\n",
       "  <tbody>\n",
       "    <tr>\n",
       "      <th>0</th>\n",
       "      <td>549771831</td>\n",
       "      <td>Male</td>\n",
       "      <td>Monday, March 7, 1977</td>\n",
       "      <td>1</td>\n",
       "      <td>EMBAKASI</td>\n",
       "      <td>0</td>\n",
       "      <td>2020</td>\n",
       "      <td>Yes</td>\n",
       "      <td>38294</td>\n",
       "      <td>Jomo Kenyatta</td>\n",
       "      <td>Thursday, December 21, 2023</td>\n",
       "      <td>1</td>\n",
       "    </tr>\n",
       "    <tr>\n",
       "      <th>1</th>\n",
       "      <td>373583351</td>\n",
       "      <td>Male</td>\n",
       "      <td>Sunday, December 29, 2002</td>\n",
       "      <td>1</td>\n",
       "      <td>WESTLANDS</td>\n",
       "      <td>1</td>\n",
       "      <td>2020</td>\n",
       "      <td>No</td>\n",
       "      <td>28619</td>\n",
       "      <td>Obiero Ochieng</td>\n",
       "      <td>Wednesday, June 28, 2023</td>\n",
       "      <td>0</td>\n",
       "    </tr>\n",
       "    <tr>\n",
       "      <th>2</th>\n",
       "      <td>933163655</td>\n",
       "      <td>Female</td>\n",
       "      <td>Tuesday, August 23, 1994</td>\n",
       "      <td>1</td>\n",
       "      <td>DAGORETTI</td>\n",
       "      <td>1</td>\n",
       "      <td>2011</td>\n",
       "      <td>No</td>\n",
       "      <td>27496</td>\n",
       "      <td>Obiero Ochieng</td>\n",
       "      <td>Saturday, December 9, 2023</td>\n",
       "      <td>0</td>\n",
       "    </tr>\n",
       "    <tr>\n",
       "      <th>3</th>\n",
       "      <td>698942186</td>\n",
       "      <td>Female</td>\n",
       "      <td>Thursday, November 18, 1999</td>\n",
       "      <td>1</td>\n",
       "      <td>JUJA</td>\n",
       "      <td>0</td>\n",
       "      <td>2020</td>\n",
       "      <td>Yes</td>\n",
       "      <td>2630</td>\n",
       "      <td>Gitonga Mwangi</td>\n",
       "      <td>Tuesday, July 25, 2023</td>\n",
       "      <td>0</td>\n",
       "    </tr>\n",
       "    <tr>\n",
       "      <th>4</th>\n",
       "      <td>515109822</td>\n",
       "      <td>Male</td>\n",
       "      <td>Thursday, February 22, 2001</td>\n",
       "      <td>1</td>\n",
       "      <td>WESTLANDS</td>\n",
       "      <td>0</td>\n",
       "      <td>2015</td>\n",
       "      <td>Yes</td>\n",
       "      <td>23367</td>\n",
       "      <td>Obiero Ochieng</td>\n",
       "      <td>Saturday, May 13, 2023</td>\n",
       "      <td>0</td>\n",
       "    </tr>\n",
       "  </tbody>\n",
       "</table>\n",
       "</div>"
      ],
      "text/plain": [
       "         ÿid  Gender       Customer_Date_of_Birth  Driving_License  \\\n",
       "0  549771831    Male        Monday, March 7, 1977                1   \n",
       "1  373583351    Male    Sunday, December 29, 2002                1   \n",
       "2  933163655  Female     Tuesday, August 23, 1994                1   \n",
       "3  698942186  Female  Thursday, November 18, 1999                1   \n",
       "4  515109822    Male  Thursday, February 22, 2001                1   \n",
       "\n",
       "  Customer_Residence_Sub_County  Previously_Insured  \\\n",
       "0                      EMBAKASI                   0   \n",
       "1                     WESTLANDS                   1   \n",
       "2                     DAGORETTI                   1   \n",
       "3                          JUJA                   0   \n",
       "4                     WESTLANDS                   0   \n",
       "\n",
       "   Vehicle_Year_of_Manufacture Vehicle_Damage  Annual_Premium      Agent_name  \\\n",
       "0                         2020            Yes           38294   Jomo Kenyatta   \n",
       "1                         2020             No           28619  Obiero Ochieng   \n",
       "2                         2011             No           27496  Obiero Ochieng   \n",
       "3                         2020            Yes            2630  Gitonga Mwangi   \n",
       "4                         2015            Yes           23367  Obiero Ochieng   \n",
       "\n",
       "        Life_policy_start_date  Response  \n",
       "0  Thursday, December 21, 2023         1  \n",
       "1     Wednesday, June 28, 2023         0  \n",
       "2   Saturday, December 9, 2023         0  \n",
       "3       Tuesday, July 25, 2023         0  \n",
       "4       Saturday, May 13, 2023         0  "
      ]
     },
     "execution_count": 2,
     "metadata": {},
     "output_type": "execute_result"
    }
   ],
   "source": [
    "df= pd.read_csv(r'C:\\Users\\Administrator\\Documents\\train_data_cross-sell.csv', encoding=\"latin1\")\n",
    "df.head()\n",
    "         "
   ]
  },
  {
   "cell_type": "code",
   "execution_count": 3,
   "metadata": {},
   "outputs": [
    {
     "data": {
      "image/png": "[encoded data removed]",
      "text/plain": [
       "<Figure size 640x480 with 1 Axes>"
      ]
     },
     "metadata": {},
     "output_type": "display_data"
    }
   ],
   "source": [
    "data_column = df['Customer_Date_of_Birth']\n",
    "# extracting the column above\n",
    "# now let's draw a histogram\n",
    "plt.hist(data_column, bins=10, color='blue', edgecolor='black', alpha=0.7)\n",
    "plt.title('Histogram of Column Data')\n",
    "plt.xlabel('Value')\n",
    "plt.ylabel('Frequency')\n",
    "plt.grid(axis='y', linestyle='--', alpha=0.7)\n",
    "\n",
    "plt.show()"
   ]
  },
  {
   "cell_type": "markdown",
   "metadata": {},
   "source": [
    "## "
   ]
  },
  {
   "cell_type": "code",
   "execution_count": 4,
   "metadata": {},
   "outputs": [
    {
     "name": "stdout",
     "output_type": "stream",
     "text": [
      "              ÿid  Gender        Customer_Date_of_Birth  Driving_License  \\\n",
      "60349   347359018    Male     Saturday, January 9, 1965                1   \n",
      "86500   349931875  Female       Saturday, March 1, 1986                1   \n",
      "87013   760803848    Male       Monday, October 1, 1973                1   \n",
      "84774   576720094  Female     Monday, September 9, 1985                1   \n",
      "42123   530807088  Female     Tuesday, January 23, 1979                1   \n",
      "...           ...     ...                           ...              ...   \n",
      "304830  522580181    Male           Friday, May 8, 1964                1   \n",
      "210656  389065904    Male  Wednesday, November 27, 1968                1   \n",
      "83847   703321458  Female     Monday, February 10, 1964                1   \n",
      "70601   158845031    Male  Wednesday, September 6, 1967                1   \n",
      "270625  281899900  Female         Sunday, April 1, 1990                1   \n",
      "\n",
      "       Customer_Residence_Sub_County  Previously_Insured  \\\n",
      "60349                    NAROK SOUTH                   1   \n",
      "86500                       KASARANI                   0   \n",
      "87013                       KASARANI                   0   \n",
      "84774                         ISINYA                   0   \n",
      "42123                       KASARANI                   1   \n",
      "...                              ...                 ...   \n",
      "304830                      KASARANI                   0   \n",
      "210656                      KASARANI                   0   \n",
      "83847                     ATHI RIVER                   1   \n",
      "70601                        MATHARE                   0   \n",
      "270625                      KASARANI                   1   \n",
      "\n",
      "        Vehicle_Year_of_Manufacture Vehicle_Damage  Annual_Premium  \\\n",
      "60349                          2009             No           28265   \n",
      "86500                          2013            Yes           32271   \n",
      "87013                          2017            Yes            2630   \n",
      "84774                          2015            Yes            2630   \n",
      "42123                          2009             No            2630   \n",
      "...                             ...            ...             ...   \n",
      "304830                         2015            Yes           84230   \n",
      "210656                         2017            Yes           45671   \n",
      "83847                          2012             No            2630   \n",
      "70601                          2017            Yes            2630   \n",
      "270625                         2017             No           31750   \n",
      "\n",
      "              Agent_name       Life_policy_start_date  Response  \n",
      "60349   Achieng Kwamboka    Friday, November 10, 2023         0  \n",
      "86500   Akinyi Chepkorir  Tuesday, September 12, 2023         0  \n",
      "87013   Akinyi Chepkorir       Friday, August 4, 2023         0  \n",
      "84774   Akinyi Chepkorir    Thursday, August 24, 2023         0  \n",
      "42123   Akinyi Chepkorir      Saturday, April 8, 2023         0  \n",
      "...                  ...                          ...       ...  \n",
      "304830      Waweru Chege   Saturday, November 4, 2023         1  \n",
      "210656      Waweru Chege     Wednesday, June 28, 2023         0  \n",
      "83847       Waweru Chege      Tuesday, August 1, 2023         0  \n",
      "70601       Waweru Chege    Thursday, August 17, 2023         0  \n",
      "270625      Waweru Chege    Sunday, December 24, 2023         0  \n",
      "\n",
      "[324466 rows x 12 columns]\n"
     ]
    }
   ],
   "source": [
    "sorted_df = df.sort_values(by='Agent_name')\n",
    "\n",
    "# Print the sorted DataFrame\n",
    "print(sorted_df)"
   ]
  },
  {
   "cell_type": "code",
   "execution_count": 5,
   "metadata": {},
   "outputs": [],
   "source": [
    "sorted_df.to_csv('sorted_data.csv')"
   ]
  },
  {
   "cell_type": "code",
   "execution_count": 6,
   "metadata": {},
   "outputs": [
    {
     "data": {
      "text/plain": [
       "Index(['ÿid', 'Gender', 'Customer_Date_of_Birth', 'Driving_License',\n",
       "       'Customer_Residence_Sub_County', 'Previously_Insured',\n",
       "       'Vehicle_Year_of_Manufacture', 'Vehicle_Damage', 'Annual_Premium',\n",
       "       'Agent_name', 'Life_policy_start_date', 'Response'],\n",
       "      dtype='object')"
      ]
     },
     "execution_count": 6,
     "metadata": {},
     "output_type": "execute_result"
    }
   ],
   "source": [
    "df.columns"
   ]
  },
  {
   "cell_type": "code",
   "execution_count": 7,
   "metadata": {},
   "outputs": [
    {
     "name": "stdout",
     "output_type": "stream",
     "text": [
      "          ÿid  Gender        Customer_Date_of_Birth  Driving_License  \\\n",
      "10  647584381  Female   Wednesday, December 1, 1982                1   \n",
      "11  580723304    Male  Wednesday, February 11, 1948                1   \n",
      "12  637068718    Male     Wednesday, March 25, 1987                1   \n",
      "13  521508229  Female    Tuesday, February 16, 1999                1   \n",
      "14  352616572  Female        Sunday, March 15, 1964                1   \n",
      "15  612068850    Male     Tuesday, January 27, 1959                1   \n",
      "16  745653831    Male    Saturday, October 12, 1974                1   \n",
      "17  173617501    Male        Sunday, April 27, 1980                1   \n",
      "18  882003657  Female   Saturday, February 22, 2003                1   \n",
      "19  952504061    Male      Thursday, August 7, 1997                1   \n",
      "\n",
      "   Customer_Residence_Sub_County  Previously_Insured  \\\n",
      "10                 THARAKA-NITHI                   1   \n",
      "11                      EMBAKASI                   0   \n",
      "12                     KAMUKUNJI                   0   \n",
      "13                 BUNGOMA SOUTH                   1   \n",
      "14                          JUJA                   0   \n",
      "15                      EMBAKASI                   0   \n",
      "16                      EMBAKASI                   0   \n",
      "17                      EMBAKASI                   0   \n",
      "18                      EMBAKASI                   1   \n",
      "19                     KAMUKUNJI                   1   \n",
      "\n",
      "    Vehicle_Year_of_Manufacture Vehicle_Damage  Annual_Premium  \\\n",
      "10                         2016             No           31409   \n",
      "11                         2009            Yes           36770   \n",
      "12                         2011            Yes            2630   \n",
      "13                         2018             No           46622   \n",
      "14                         2018            Yes           32363   \n",
      "15                         2014            Yes           41184   \n",
      "16                         2013            Yes           50791   \n",
      "17                         2010            Yes           41852   \n",
      "18                         2021             No           61964   \n",
      "19                         2012             No           19135   \n",
      "\n",
      "          Agent_name        Life_policy_start_date  Response  \n",
      "10   Kipchoge Kiptoo       Saturday, June 10, 2023         0  \n",
      "11  Odhiambo Onyango      Tuesday, January 2, 2024         0  \n",
      "12    Onyango Mariga    Wednesday, August 23, 2023         1  \n",
      "13    Obiero Ochieng        Friday, March 24, 2023         0  \n",
      "14   Njoroge Karanja     Saturday, October 7, 2023         1  \n",
      "15   Njoroge Karanja  Saturday, September 23, 2023         0  \n",
      "16   Njoroge Karanja         Monday, July 24, 2023         0  \n",
      "17   Karanja Wanjala   Saturday, November 18, 2023         0  \n",
      "18    Obiero Ochieng      Monday, November 6, 2023         0  \n",
      "19    Obiero Ochieng    Tuesday, November 21, 2023         0  \n"
     ]
    }
   ],
   "source": [
    "# Access rows 0 to 1\n",
    "print(df[10:20])\n"
   ]
  },
  {
   "cell_type": "code",
   "execution_count": 8,
   "metadata": {},
   "outputs": [],
   "source": [
    "# Step 1: Calculate performance scores (Premium and agent name)\n",
    "performance_scores = df.groupby('Agent_name')['Annual_Premium'].sum().reset_index(name='performance_score')\n",
    "\n",
    "# Step 2: Merge the performance scores back into the original DataFrame\n",
    "df = df.merge(performance_scores, on='Agent_name')\n",
    "\n",
    "# Step 3: Define performance categories based on quartiles as an example\n",
    "performance_quartiles = df['performance_score'].quantile([0.25, 0.5, 0.75]).to_dict()\n",
    "\n"
   ]
  }
 ],
 "metadata": {
  "kernelspec": {
   "display_name": "Python 3",
   "language": "python",
   "name": "python3"
  },
  "language_info": {
   "codemirror_mode": {
    "name": "ipython",
    "version": 3
   },
   "file_extension": ".py",
   "mimetype": "text/x-python",
   "name": "python",
   "nbconvert_exporter": "python",
   "pygments_lexer": "ipython3",
   "version": "3.12.2"
  }
 },
 "nbformat": 4,
 "nbformat_minor": 2
}
