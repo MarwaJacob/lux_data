{
 "cells": [
  {
   "cell_type": "markdown",
   "metadata": {},
   "source": [
    "## # descriptive statistics; \n",
    "summarise and describe data characteristics i.e it tells you about what is happening to your data set.\n"
   ]
  },
  {
   "cell_type": "markdown",
   "metadata": {},
   "source": [
    "### inferencial statistics; \n",
    "uses a data sample to make inferences and conclusions i.e you can make make conclusions about the larger data from a sample."
   ]
  },
  {
   "cell_type": "markdown",
   "metadata": {},
   "source": [
    "##### measures of central tendencies\n",
    "\n",
    "### mean-\n",
    "      the most commonly used measure of central tendecy that is used to represent the avarage colection of data. for both discreet and continous data"
   ]
  },
  {
   "cell_type": "code",
   "execution_count": null,
   "metadata": {},
   "outputs": [],
   "source": [
    "my_list=[10,15, 17, 18, 21]"
   ]
  },
  {
   "cell_type": "markdown",
   "metadata": {},
   "source": [
    " ### mode-\n",
    " this is the most occuring numbe in a data set\n",
    "mode for grouped data is given by l +(f1-f0/2f1-f0-f2)*h"
   ]
  },
  {
   "cell_type": "markdown",
   "metadata": {},
   "source": [
    " ### median-\n",
    " represents the mid-value of a collection of data arrange in a particular order i.e ascending or descending."
   ]
  },
  {
   "cell_type": "markdown",
   "metadata": {},
   "source": [
    "#### ungrouped  median formula\n",
    "     if values of number is odd median is calculated by- [(n+1)/2]th observation\n",
    "     if number of values / observations is even is calculated by the average of (n/2)th  and  [(n/2) +1]th observation.\n",
    "\n",
    "      ###grouped data\n",
    "       median = l+ (N/2-cf/f) *h"
   ]
  },
  {
   "cell_type": "markdown",
   "metadata": {},
   "source": [
    "  ##### Types  distribution of statistics \n",
    "\n",
    "  ## normal distribution- also Gaussian\n",
    "this  distribution  is  symmetrical with a bell -shaped curve\n",
    "used to model data where  avarage is more common than extreme value e.g human weight,height, test scores"
   ]
  },
  {
   "cell_type": "markdown",
   "metadata": {},
   "source": [
    "### binomial distribution\n",
    "for calculating the probability of a cetain  number of successes or failures  in a certain number of trials  e.g tossing a coin"
   ]
  },
  {
   "cell_type": "markdown",
   "metadata": {},
   "source": [
    "### poisson distribution\n",
    "to model a number of events that occur in a certain interval of time or space . the occurance must be certain and independent from each other"
   ]
  },
  {
   "cell_type": "markdown",
   "metadata": {},
   "source": [
    "### uniform  distribution\n",
    "here all outcomes have equal probability of happening.eg rolling a dice\n"
   ]
  },
  {
   "cell_type": "markdown",
   "metadata": {},
   "source": [
    "### bernoulli didtribution\n",
    "this has only two outcomes eg tossing a coin "
   ]
  },
  {
   "cell_type": "markdown",
   "metadata": {},
   "source": [
    "## multicollinearity\n",
    "this when two or more independent variables are highly correlated  with each other \n",
    "### homoskedasticity\n",
    "it indicates that the variance of error terms are is constant across all levels of the indpendent  variables \n",
    "helps ensure that statistical results are valid, reliable, and accurate\n"
   ]
  },
  {
   "cell_type": "markdown",
   "metadata": {},
   "source": [
    "### boxplot\n",
    "this is a data visualisation  for dispalying the distribution of continous variable by showing its quartiles,median etc\n",
    "Boxplots display the relationship between a continuous variable and a categorical variable\n",
    " countplot \n",
    "this is a barchart that shows the frequency of each category within  a categorical variable. basically, counting  how many observations fall into each category.\n",
    "  Count plots display the relationship between two categorical variables"
   ]
  }
 ],
 "metadata": {
  "kernelspec": {
   "display_name": "Python 3",
   "language": "python",
   "name": "python3"
  },
  "language_info": {
   "name": "python",
   "version": "3.12.2"
  }
 },
 "nbformat": 4,
 "nbformat_minor": 2
}
